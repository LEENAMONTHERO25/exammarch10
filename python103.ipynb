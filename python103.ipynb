{
 "cells": [
  {
   "cell_type": "code",
   "execution_count": 9,
   "id": "cc1a1f8f",
   "metadata": {},
   "outputs": [
    {
     "name": "stdout",
     "output_type": "stream",
     "text": [
      "{'abc': ['abc', 'def'], 'def': ['ghi'], 'ghi': ['jkl'], 'jkl': ['mno'], 'mno': ['pqr'], 'pqr': ['stu'], 'stu': ['vwx'], 'vwx': ['you are finally here !!!']}\n"
     ]
    }
   ],
   "source": [
    "def generate_output(input_dict):\n",
    "    output = {}\n",
    "    \n",
    "    def recursive_parse(dictionary, path=[]):\n",
    "        for key, value in dictionary.items():\n",
    "            new_path = path + [key]\n",
    "            if isinstance(value, dict):\n",
    "                output_key = path[-1] if path else key  # Get the last item of the path or use the key itself if it's the root\n",
    "                output.setdefault(output_key, []).append(key)\n",
    "                recursive_parse(value, new_path)\n",
    "            else:\n",
    "                output_key = path[-1] if path else key  # Get the last item of the path or use the key itself if it's the root\n",
    "                output.setdefault(output_key, []).append(value)\n",
    "\n",
    "    recursive_parse(input_dict)\n",
    "    return output\n",
    "\n",
    "# Example usage:\n",
    "input_dict = {\"abc\":{\"def\":{\"ghi\":{\"jkl\":{\"mno\":{\"pqr\":{\"stu\":{\"vwx\":{\"yz\":\"you are finally here !!!\"}}}}}}}}}\n",
    "output = generate_output(input_dict)\n",
    "print(output)\n",
    "\n"
   ]
  },
  {
   "cell_type": "code",
   "execution_count": 10,
   "id": "e36afbc7",
   "metadata": {},
   "outputs": [
    {
     "name": "stdout",
     "output_type": "stream",
     "text": [
      "3\n"
     ]
    }
   ],
   "source": [
    "def min_distance_between_horses(stalls, k):\n",
    "    stalls.sort()  # Sort the stalls array to simplify the search process\n",
    "    low, high = 0, stalls[-1] - stalls[0]  # Initialize the search space\n",
    "\n",
    "    while low <= high:\n",
    "        mid = (low + high) // 2  # Calculate the mid value of the search space\n",
    "        if is_valid_distance(stalls, k, mid):  # Check if mid is a valid minimum distance\n",
    "            low = mid + 1  # If valid, update the lower bound\n",
    "        else:\n",
    "            high = mid - 1  # If not valid, update the upper bound\n",
    "\n",
    "    return high  # Return the largest valid minimum distance found\n",
    "\n",
    "def is_valid_distance(stalls, k, min_distance):\n",
    "    horses_placed = 1  # Number of horses placed so far\n",
    "    prev_stall = stalls[0]  # Initialize the position of the first horse\n",
    "    for stall in stalls:\n",
    "        if stall - prev_stall >= min_distance:  # Check if the distance between stalls is at least min_distance\n",
    "            horses_placed += 1  # If valid, place another horse\n",
    "            prev_stall = stall  # Update the position of the last horse placed\n",
    "        if horses_placed == k:  # If all horses are placed, return True\n",
    "            return True\n",
    "    return False  # If not all horses can be placed, return False\n",
    "\n",
    "# Example usage:\n",
    "stalls = [1, 2, 4, 8, 9]\n",
    "k = 3\n",
    "print(min_distance_between_horses(stalls, k))  # Output: 3\n"
   ]
  },
  {
   "cell_type": "code",
   "execution_count": null,
   "id": "065b77d1",
   "metadata": {},
   "outputs": [],
   "source": [
    "def print_door_mat(N, M):\n",
    "    # Top part of the door mat\n",
    "    for i in range(1, N, 2):\n",
    "        print((\".|.\" * i).center(M, \"-\"))\n",
    "    \n",
    "    # Welcome message\n",
    "    print(\"WELCOME\".center(M, \"-\"))\n",
    "    \n",
    "    # Bottom part of the door mat (reversed)\n",
    "    for i in range(N-2, 0, -2):\n",
    "        print((\".|.\" * i).center(M, \"-\"))\n",
    "\n",
    "# Example usage:\n",
    "N = 7  # Example odd natural number\n",
    "M = 21  # Example M is 3 times N\n",
    "print_door_mat(N, M)\n"
   ]
  },
  {
   "cell_type": "code",
   "execution_count": 11,
   "id": "a86d4eb5",
   "metadata": {},
   "outputs": [
    {
     "name": "stdout",
     "output_type": "stream",
     "text": [
      "[[-2, -1, 1, 2], [-2, 0, 0, 2], [-1, 0, 0, 1]]\n"
     ]
    }
   ],
   "source": [
    "def four_sum(nums, target):\n",
    "    nums.sort()  # Sort the array to use the two-pointer technique\n",
    "    quadruplets = []\n",
    "    \n",
    "    n = len(nums)\n",
    "    for i in range(n - 3):\n",
    "        # Skip duplicate elements to avoid duplicate quadruplets\n",
    "        if i > 0 and nums[i] == nums[i - 1]:\n",
    "            continue\n",
    "        \n",
    "        for j in range(i + 1, n - 2):\n",
    "            # Skip duplicate elements to avoid duplicate quadruplets\n",
    "            if j > i + 1 and nums[j] == nums[j - 1]:\n",
    "                continue\n",
    "            \n",
    "            left = j + 1\n",
    "            right = n - 1\n",
    "            \n",
    "            while left < right:\n",
    "                total = nums[i] + nums[j] + nums[left] + nums[right]\n",
    "                if total == target:\n",
    "                    quadruplets.append([nums[i], nums[j], nums[left], nums[right]])\n",
    "                    # Skip duplicate elements to avoid duplicate quadruplets\n",
    "                    while left < right and nums[left] == nums[left + 1]:\n",
    "                        left += 1\n",
    "                    while left < right and nums[right] == nums[right - 1]:\n",
    "                        right -= 1\n",
    "                    left += 1\n",
    "                    right -= 1\n",
    "                elif total < target:\n",
    "                    left += 1\n",
    "                else:\n",
    "                    right -= 1\n",
    "    \n",
    "    return quadruplets\n",
    "\n",
    "# Example usage:\n",
    "nums = [1, 0, -1, 0, -2, 2]\n",
    "target = 0\n",
    "print(four_sum(nums, target))\n"
   ]
  },
  {
   "cell_type": "code",
   "execution_count": null,
   "id": "2214999f",
   "metadata": {},
   "outputs": [],
   "source": []
  }
 ],
 "metadata": {
  "kernelspec": {
   "display_name": "Python 3 (ipykernel)",
   "language": "python",
   "name": "python3"
  },
  "language_info": {
   "codemirror_mode": {
    "name": "ipython",
    "version": 3
   },
   "file_extension": ".py",
   "mimetype": "text/x-python",
   "name": "python",
   "nbconvert_exporter": "python",
   "pygments_lexer": "ipython3",
   "version": "3.11.3"
  }
 },
 "nbformat": 4,
 "nbformat_minor": 5
}
