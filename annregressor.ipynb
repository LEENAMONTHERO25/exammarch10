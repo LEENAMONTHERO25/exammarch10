{
  "nbformat": 4,
  "nbformat_minor": 0,
  "metadata": {
    "colab": {
      "provenance": [],
      "gpuType": "T4"
    },
    "kernelspec": {
      "name": "python3",
      "display_name": "Python 3"
    },
    "language_info": {
      "name": "python"
    },
    "accelerator": "GPU"
  },
  "cells": [
    {
      "cell_type": "code",
      "execution_count": 1,
      "metadata": {
        "id": "A_XYeZC3-7GQ"
      },
      "outputs": [],
      "source": [
        "import pandas as pd\n",
        "import numpy as np"
      ]
    },
    {
      "cell_type": "code",
      "source": [
        "df=pd.read_csv(\"/content/laptops_train.csv\")"
      ],
      "metadata": {
        "id": "6LxGYO1LBHq2"
      },
      "execution_count": 2,
      "outputs": []
    },
    {
      "cell_type": "code",
      "source": [
        "df.head()"
      ],
      "metadata": {
        "colab": {
          "base_uri": "https://localhost:8080/",
          "height": 310
        },
        "id": "5WvOBQ1eBSVk",
        "outputId": "0f93e2da-4f5c-4863-aa0d-ced048074e97"
      },
      "execution_count": 3,
      "outputs": [
        {
          "output_type": "execute_result",
          "data": {
            "text/plain": [
              "  Manufacturer   Model Name   Category Screen Size  \\\n",
              "0        Apple  MacBook Pro  Ultrabook       13.3\"   \n",
              "1        Apple  Macbook Air  Ultrabook       13.3\"   \n",
              "2           HP       250 G6   Notebook       15.6\"   \n",
              "3        Apple  MacBook Pro  Ultrabook       15.4\"   \n",
              "4        Apple  MacBook Pro  Ultrabook       13.3\"   \n",
              "\n",
              "                               Screen                         CPU   RAM  \\\n",
              "0  IPS Panel Retina Display 2560x1600        Intel Core i5 2.3GHz   8GB   \n",
              "1                            1440x900        Intel Core i5 1.8GHz   8GB   \n",
              "2                   Full HD 1920x1080  Intel Core i5 7200U 2.5GHz   8GB   \n",
              "3  IPS Panel Retina Display 2880x1800        Intel Core i7 2.7GHz  16GB   \n",
              "4  IPS Panel Retina Display 2560x1600        Intel Core i5 3.1GHz   8GB   \n",
              "\n",
              "               Storage                           GPU Operating System  \\\n",
              "0            128GB SSD  Intel Iris Plus Graphics 640            macOS   \n",
              "1  128GB Flash Storage        Intel HD Graphics 6000            macOS   \n",
              "2            256GB SSD         Intel HD Graphics 620            No OS   \n",
              "3            512GB SSD            AMD Radeon Pro 455            macOS   \n",
              "4            256GB SSD  Intel Iris Plus Graphics 650            macOS   \n",
              "\n",
              "  Operating System Version  Weight        Price  \n",
              "0                      NaN  1.37kg  11912523.48  \n",
              "1                      NaN  1.34kg   7993374.48  \n",
              "2                      NaN  1.86kg   5112900.00  \n",
              "3                      NaN  1.83kg  22563005.40  \n",
              "4                      NaN  1.37kg  16037611.20  "
            ],
            "text/html": [
              "\n",
              "  <div id=\"df-0935b26c-5ab3-4168-91ab-4f7f0b1d94de\" class=\"colab-df-container\">\n",
              "    <div>\n",
              "<style scoped>\n",
              "    .dataframe tbody tr th:only-of-type {\n",
              "        vertical-align: middle;\n",
              "    }\n",
              "\n",
              "    .dataframe tbody tr th {\n",
              "        vertical-align: top;\n",
              "    }\n",
              "\n",
              "    .dataframe thead th {\n",
              "        text-align: right;\n",
              "    }\n",
              "</style>\n",
              "<table border=\"1\" class=\"dataframe\">\n",
              "  <thead>\n",
              "    <tr style=\"text-align: right;\">\n",
              "      <th></th>\n",
              "      <th>Manufacturer</th>\n",
              "      <th>Model Name</th>\n",
              "      <th>Category</th>\n",
              "      <th>Screen Size</th>\n",
              "      <th>Screen</th>\n",
              "      <th>CPU</th>\n",
              "      <th>RAM</th>\n",
              "      <th>Storage</th>\n",
              "      <th>GPU</th>\n",
              "      <th>Operating System</th>\n",
              "      <th>Operating System Version</th>\n",
              "      <th>Weight</th>\n",
              "      <th>Price</th>\n",
              "    </tr>\n",
              "  </thead>\n",
              "  <tbody>\n",
              "    <tr>\n",
              "      <th>0</th>\n",
              "      <td>Apple</td>\n",
              "      <td>MacBook Pro</td>\n",
              "      <td>Ultrabook</td>\n",
              "      <td>13.3\"</td>\n",
              "      <td>IPS Panel Retina Display 2560x1600</td>\n",
              "      <td>Intel Core i5 2.3GHz</td>\n",
              "      <td>8GB</td>\n",
              "      <td>128GB SSD</td>\n",
              "      <td>Intel Iris Plus Graphics 640</td>\n",
              "      <td>macOS</td>\n",
              "      <td>NaN</td>\n",
              "      <td>1.37kg</td>\n",
              "      <td>11912523.48</td>\n",
              "    </tr>\n",
              "    <tr>\n",
              "      <th>1</th>\n",
              "      <td>Apple</td>\n",
              "      <td>Macbook Air</td>\n",
              "      <td>Ultrabook</td>\n",
              "      <td>13.3\"</td>\n",
              "      <td>1440x900</td>\n",
              "      <td>Intel Core i5 1.8GHz</td>\n",
              "      <td>8GB</td>\n",
              "      <td>128GB Flash Storage</td>\n",
              "      <td>Intel HD Graphics 6000</td>\n",
              "      <td>macOS</td>\n",
              "      <td>NaN</td>\n",
              "      <td>1.34kg</td>\n",
              "      <td>7993374.48</td>\n",
              "    </tr>\n",
              "    <tr>\n",
              "      <th>2</th>\n",
              "      <td>HP</td>\n",
              "      <td>250 G6</td>\n",
              "      <td>Notebook</td>\n",
              "      <td>15.6\"</td>\n",
              "      <td>Full HD 1920x1080</td>\n",
              "      <td>Intel Core i5 7200U 2.5GHz</td>\n",
              "      <td>8GB</td>\n",
              "      <td>256GB SSD</td>\n",
              "      <td>Intel HD Graphics 620</td>\n",
              "      <td>No OS</td>\n",
              "      <td>NaN</td>\n",
              "      <td>1.86kg</td>\n",
              "      <td>5112900.00</td>\n",
              "    </tr>\n",
              "    <tr>\n",
              "      <th>3</th>\n",
              "      <td>Apple</td>\n",
              "      <td>MacBook Pro</td>\n",
              "      <td>Ultrabook</td>\n",
              "      <td>15.4\"</td>\n",
              "      <td>IPS Panel Retina Display 2880x1800</td>\n",
              "      <td>Intel Core i7 2.7GHz</td>\n",
              "      <td>16GB</td>\n",
              "      <td>512GB SSD</td>\n",
              "      <td>AMD Radeon Pro 455</td>\n",
              "      <td>macOS</td>\n",
              "      <td>NaN</td>\n",
              "      <td>1.83kg</td>\n",
              "      <td>22563005.40</td>\n",
              "    </tr>\n",
              "    <tr>\n",
              "      <th>4</th>\n",
              "      <td>Apple</td>\n",
              "      <td>MacBook Pro</td>\n",
              "      <td>Ultrabook</td>\n",
              "      <td>13.3\"</td>\n",
              "      <td>IPS Panel Retina Display 2560x1600</td>\n",
              "      <td>Intel Core i5 3.1GHz</td>\n",
              "      <td>8GB</td>\n",
              "      <td>256GB SSD</td>\n",
              "      <td>Intel Iris Plus Graphics 650</td>\n",
              "      <td>macOS</td>\n",
              "      <td>NaN</td>\n",
              "      <td>1.37kg</td>\n",
              "      <td>16037611.20</td>\n",
              "    </tr>\n",
              "  </tbody>\n",
              "</table>\n",
              "</div>\n",
              "    <div class=\"colab-df-buttons\">\n",
              "\n",
              "  <div class=\"colab-df-container\">\n",
              "    <button class=\"colab-df-convert\" onclick=\"convertToInteractive('df-0935b26c-5ab3-4168-91ab-4f7f0b1d94de')\"\n",
              "            title=\"Convert this dataframe to an interactive table.\"\n",
              "            style=\"display:none;\">\n",
              "\n",
              "  <svg xmlns=\"http://www.w3.org/2000/svg\" height=\"24px\" viewBox=\"0 -960 960 960\">\n",
              "    <path d=\"M120-120v-720h720v720H120Zm60-500h600v-160H180v160Zm220 220h160v-160H400v160Zm0 220h160v-160H400v160ZM180-400h160v-160H180v160Zm440 0h160v-160H620v160ZM180-180h160v-160H180v160Zm440 0h160v-160H620v160Z\"/>\n",
              "  </svg>\n",
              "    </button>\n",
              "\n",
              "  <style>\n",
              "    .colab-df-container {\n",
              "      display:flex;\n",
              "      gap: 12px;\n",
              "    }\n",
              "\n",
              "    .colab-df-convert {\n",
              "      background-color: #E8F0FE;\n",
              "      border: none;\n",
              "      border-radius: 50%;\n",
              "      cursor: pointer;\n",
              "      display: none;\n",
              "      fill: #1967D2;\n",
              "      height: 32px;\n",
              "      padding: 0 0 0 0;\n",
              "      width: 32px;\n",
              "    }\n",
              "\n",
              "    .colab-df-convert:hover {\n",
              "      background-color: #E2EBFA;\n",
              "      box-shadow: 0px 1px 2px rgba(60, 64, 67, 0.3), 0px 1px 3px 1px rgba(60, 64, 67, 0.15);\n",
              "      fill: #174EA6;\n",
              "    }\n",
              "\n",
              "    .colab-df-buttons div {\n",
              "      margin-bottom: 4px;\n",
              "    }\n",
              "\n",
              "    [theme=dark] .colab-df-convert {\n",
              "      background-color: #3B4455;\n",
              "      fill: #D2E3FC;\n",
              "    }\n",
              "\n",
              "    [theme=dark] .colab-df-convert:hover {\n",
              "      background-color: #434B5C;\n",
              "      box-shadow: 0px 1px 3px 1px rgba(0, 0, 0, 0.15);\n",
              "      filter: drop-shadow(0px 1px 2px rgba(0, 0, 0, 0.3));\n",
              "      fill: #FFFFFF;\n",
              "    }\n",
              "  </style>\n",
              "\n",
              "    <script>\n",
              "      const buttonEl =\n",
              "        document.querySelector('#df-0935b26c-5ab3-4168-91ab-4f7f0b1d94de button.colab-df-convert');\n",
              "      buttonEl.style.display =\n",
              "        google.colab.kernel.accessAllowed ? 'block' : 'none';\n",
              "\n",
              "      async function convertToInteractive(key) {\n",
              "        const element = document.querySelector('#df-0935b26c-5ab3-4168-91ab-4f7f0b1d94de');\n",
              "        const dataTable =\n",
              "          await google.colab.kernel.invokeFunction('convertToInteractive',\n",
              "                                                    [key], {});\n",
              "        if (!dataTable) return;\n",
              "\n",
              "        const docLinkHtml = 'Like what you see? Visit the ' +\n",
              "          '<a target=\"_blank\" href=https://colab.research.google.com/notebooks/data_table.ipynb>data table notebook</a>'\n",
              "          + ' to learn more about interactive tables.';\n",
              "        element.innerHTML = '';\n",
              "        dataTable['output_type'] = 'display_data';\n",
              "        await google.colab.output.renderOutput(dataTable, element);\n",
              "        const docLink = document.createElement('div');\n",
              "        docLink.innerHTML = docLinkHtml;\n",
              "        element.appendChild(docLink);\n",
              "      }\n",
              "    </script>\n",
              "  </div>\n",
              "\n",
              "\n",
              "<div id=\"df-15d3a08d-285f-4536-bfd9-73844d9e9593\">\n",
              "  <button class=\"colab-df-quickchart\" onclick=\"quickchart('df-15d3a08d-285f-4536-bfd9-73844d9e9593')\"\n",
              "            title=\"Suggest charts\"\n",
              "            style=\"display:none;\">\n",
              "\n",
              "<svg xmlns=\"http://www.w3.org/2000/svg\" height=\"24px\"viewBox=\"0 0 24 24\"\n",
              "     width=\"24px\">\n",
              "    <g>\n",
              "        <path d=\"M19 3H5c-1.1 0-2 .9-2 2v14c0 1.1.9 2 2 2h14c1.1 0 2-.9 2-2V5c0-1.1-.9-2-2-2zM9 17H7v-7h2v7zm4 0h-2V7h2v10zm4 0h-2v-4h2v4z\"/>\n",
              "    </g>\n",
              "</svg>\n",
              "  </button>\n",
              "\n",
              "<style>\n",
              "  .colab-df-quickchart {\n",
              "      --bg-color: #E8F0FE;\n",
              "      --fill-color: #1967D2;\n",
              "      --hover-bg-color: #E2EBFA;\n",
              "      --hover-fill-color: #174EA6;\n",
              "      --disabled-fill-color: #AAA;\n",
              "      --disabled-bg-color: #DDD;\n",
              "  }\n",
              "\n",
              "  [theme=dark] .colab-df-quickchart {\n",
              "      --bg-color: #3B4455;\n",
              "      --fill-color: #D2E3FC;\n",
              "      --hover-bg-color: #434B5C;\n",
              "      --hover-fill-color: #FFFFFF;\n",
              "      --disabled-bg-color: #3B4455;\n",
              "      --disabled-fill-color: #666;\n",
              "  }\n",
              "\n",
              "  .colab-df-quickchart {\n",
              "    background-color: var(--bg-color);\n",
              "    border: none;\n",
              "    border-radius: 50%;\n",
              "    cursor: pointer;\n",
              "    display: none;\n",
              "    fill: var(--fill-color);\n",
              "    height: 32px;\n",
              "    padding: 0;\n",
              "    width: 32px;\n",
              "  }\n",
              "\n",
              "  .colab-df-quickchart:hover {\n",
              "    background-color: var(--hover-bg-color);\n",
              "    box-shadow: 0 1px 2px rgba(60, 64, 67, 0.3), 0 1px 3px 1px rgba(60, 64, 67, 0.15);\n",
              "    fill: var(--button-hover-fill-color);\n",
              "  }\n",
              "\n",
              "  .colab-df-quickchart-complete:disabled,\n",
              "  .colab-df-quickchart-complete:disabled:hover {\n",
              "    background-color: var(--disabled-bg-color);\n",
              "    fill: var(--disabled-fill-color);\n",
              "    box-shadow: none;\n",
              "  }\n",
              "\n",
              "  .colab-df-spinner {\n",
              "    border: 2px solid var(--fill-color);\n",
              "    border-color: transparent;\n",
              "    border-bottom-color: var(--fill-color);\n",
              "    animation:\n",
              "      spin 1s steps(1) infinite;\n",
              "  }\n",
              "\n",
              "  @keyframes spin {\n",
              "    0% {\n",
              "      border-color: transparent;\n",
              "      border-bottom-color: var(--fill-color);\n",
              "      border-left-color: var(--fill-color);\n",
              "    }\n",
              "    20% {\n",
              "      border-color: transparent;\n",
              "      border-left-color: var(--fill-color);\n",
              "      border-top-color: var(--fill-color);\n",
              "    }\n",
              "    30% {\n",
              "      border-color: transparent;\n",
              "      border-left-color: var(--fill-color);\n",
              "      border-top-color: var(--fill-color);\n",
              "      border-right-color: var(--fill-color);\n",
              "    }\n",
              "    40% {\n",
              "      border-color: transparent;\n",
              "      border-right-color: var(--fill-color);\n",
              "      border-top-color: var(--fill-color);\n",
              "    }\n",
              "    60% {\n",
              "      border-color: transparent;\n",
              "      border-right-color: var(--fill-color);\n",
              "    }\n",
              "    80% {\n",
              "      border-color: transparent;\n",
              "      border-right-color: var(--fill-color);\n",
              "      border-bottom-color: var(--fill-color);\n",
              "    }\n",
              "    90% {\n",
              "      border-color: transparent;\n",
              "      border-bottom-color: var(--fill-color);\n",
              "    }\n",
              "  }\n",
              "</style>\n",
              "\n",
              "  <script>\n",
              "    async function quickchart(key) {\n",
              "      const quickchartButtonEl =\n",
              "        document.querySelector('#' + key + ' button');\n",
              "      quickchartButtonEl.disabled = true;  // To prevent multiple clicks.\n",
              "      quickchartButtonEl.classList.add('colab-df-spinner');\n",
              "      try {\n",
              "        const charts = await google.colab.kernel.invokeFunction(\n",
              "            'suggestCharts', [key], {});\n",
              "      } catch (error) {\n",
              "        console.error('Error during call to suggestCharts:', error);\n",
              "      }\n",
              "      quickchartButtonEl.classList.remove('colab-df-spinner');\n",
              "      quickchartButtonEl.classList.add('colab-df-quickchart-complete');\n",
              "    }\n",
              "    (() => {\n",
              "      let quickchartButtonEl =\n",
              "        document.querySelector('#df-15d3a08d-285f-4536-bfd9-73844d9e9593 button');\n",
              "      quickchartButtonEl.style.display =\n",
              "        google.colab.kernel.accessAllowed ? 'block' : 'none';\n",
              "    })();\n",
              "  </script>\n",
              "</div>\n",
              "\n",
              "    </div>\n",
              "  </div>\n"
            ],
            "application/vnd.google.colaboratory.intrinsic+json": {
              "type": "dataframe",
              "variable_name": "df",
              "summary": "{\n  \"name\": \"df\",\n  \"rows\": 977,\n  \"fields\": [\n    {\n      \"column\": \"Manufacturer\",\n      \"properties\": {\n        \"dtype\": \"category\",\n        \"num_unique_values\": 19,\n        \"samples\": [\n          \"Apple\",\n          \"Lenovo\",\n          \"Xiaomi\"\n        ],\n        \"semantic_type\": \"\",\n        \"description\": \"\"\n      }\n    },\n    {\n      \"column\": \"Model Name\",\n      \"properties\": {\n        \"dtype\": \"category\",\n        \"num_unique_values\": 488,\n        \"samples\": [\n          \"Thinkpad T470\",\n          \"ThinkPad T470s\",\n          \"R558UA-DM966T (i5-7200U/8GB/128GB/FHD/W10)\"\n        ],\n        \"semantic_type\": \"\",\n        \"description\": \"\"\n      }\n    },\n    {\n      \"column\": \"Category\",\n      \"properties\": {\n        \"dtype\": \"category\",\n        \"num_unique_values\": 6,\n        \"samples\": [\n          \"Ultrabook\",\n          \"Notebook\",\n          \"Workstation\"\n        ],\n        \"semantic_type\": \"\",\n        \"description\": \"\"\n      }\n    },\n    {\n      \"column\": \"Screen Size\",\n      \"properties\": {\n        \"dtype\": \"category\",\n        \"num_unique_values\": 18,\n        \"samples\": [\n          \"13.3\\\"\",\n          \"15.6\\\"\",\n          \"13.5\\\"\"\n        ],\n        \"semantic_type\": \"\",\n        \"description\": \"\"\n      }\n    },\n    {\n      \"column\": \"Screen\",\n      \"properties\": {\n        \"dtype\": \"category\",\n        \"num_unique_values\": 38,\n        \"samples\": [\n          \"IPS Panel Full HD 1920x1200\",\n          \"Touchscreen / Full HD 1920x1080\",\n          \"1366x768\"\n        ],\n        \"semantic_type\": \"\",\n        \"description\": \"\"\n      }\n    },\n    {\n      \"column\": \"CPU\",\n      \"properties\": {\n        \"dtype\": \"category\",\n        \"num_unique_values\": 106,\n        \"samples\": [\n          \"Intel Core i7 6560U 2.2GHz\",\n          \"Intel Core i7 2.8GHz\",\n          \"Intel Core i5 3.1GHz\"\n        ],\n        \"semantic_type\": \"\",\n        \"description\": \"\"\n      }\n    },\n    {\n      \"column\": \"RAM\",\n      \"properties\": {\n        \"dtype\": \"category\",\n        \"num_unique_values\": 8,\n        \"samples\": [\n          \"16GB\",\n          \"6GB\",\n          \"8GB\"\n        ],\n        \"semantic_type\": \"\",\n        \"description\": \"\"\n      }\n    },\n    {\n      \"column\": \"Storage\",\n      \"properties\": {\n        \"dtype\": \"category\",\n        \"num_unique_values\": 36,\n        \"samples\": [\n          \"508GB Hybrid\",\n          \"32GB SSD\",\n          \"64GB Flash Storage +  1TB HDD\"\n        ],\n        \"semantic_type\": \"\",\n        \"description\": \"\"\n      }\n    },\n    {\n      \"column\": \"GPU\",\n      \"properties\": {\n        \"dtype\": \"category\",\n        \"num_unique_values\": 98,\n        \"samples\": [\n          \"AMD Radeon R4\",\n          \"Intel HD Graphics 515\",\n          \"AMD Radeon R3\"\n        ],\n        \"semantic_type\": \"\",\n        \"description\": \"\"\n      }\n    },\n    {\n      \"column\": \"Operating System\",\n      \"properties\": {\n        \"dtype\": \"category\",\n        \"num_unique_values\": 7,\n        \"samples\": [\n          \"macOS\",\n          \"No OS\",\n          \"Android\"\n        ],\n        \"semantic_type\": \"\",\n        \"description\": \"\"\n      }\n    },\n    {\n      \"column\": \"Operating System Version\",\n      \"properties\": {\n        \"dtype\": \"category\",\n        \"num_unique_values\": 4,\n        \"samples\": [\n          \"X\",\n          \"7\",\n          \"10\"\n        ],\n        \"semantic_type\": \"\",\n        \"description\": \"\"\n      }\n    },\n    {\n      \"column\": \"Weight\",\n      \"properties\": {\n        \"dtype\": \"category\",\n        \"num_unique_values\": 166,\n        \"samples\": [\n          \"1.45kg\",\n          \"2.94kg\",\n          \"4.42kg\"\n        ],\n        \"semantic_type\": \"\",\n        \"description\": \"\"\n      }\n    },\n    {\n      \"column\": \"Price\",\n      \"properties\": {\n        \"dtype\": \"number\",\n        \"std\": 6306430.015024092,\n        \"min\": 1706374.8,\n        \"max\": 54232308.0,\n        \"num_unique_values\": 639,\n        \"samples\": [\n          9327708.0,\n          16377730.2,\n          16628040.0\n        ],\n        \"semantic_type\": \"\",\n        \"description\": \"\"\n      }\n    }\n  ]\n}"
            }
          },
          "metadata": {},
          "execution_count": 3
        }
      ]
    },
    {
      "cell_type": "code",
      "source": [
        "df.info()"
      ],
      "metadata": {
        "colab": {
          "base_uri": "https://localhost:8080/"
        },
        "id": "8q1tQUrpBWBP",
        "outputId": "01a59361-c47a-4755-fd13-4a98f17673ba"
      },
      "execution_count": 4,
      "outputs": [
        {
          "output_type": "stream",
          "name": "stdout",
          "text": [
            "<class 'pandas.core.frame.DataFrame'>\n",
            "RangeIndex: 977 entries, 0 to 976\n",
            "Data columns (total 13 columns):\n",
            " #   Column                    Non-Null Count  Dtype  \n",
            "---  ------                    --------------  -----  \n",
            " 0   Manufacturer              977 non-null    object \n",
            " 1   Model Name                977 non-null    object \n",
            " 2   Category                  977 non-null    object \n",
            " 3   Screen Size               977 non-null    object \n",
            " 4   Screen                    977 non-null    object \n",
            " 5   CPU                       977 non-null    object \n",
            " 6   RAM                       977 non-null    object \n",
            " 7   Storage                   977 non-null    object \n",
            " 8   GPU                       977 non-null    object \n",
            " 9   Operating System          977 non-null    object \n",
            " 10  Operating System Version  841 non-null    object \n",
            " 11  Weight                    977 non-null    object \n",
            " 12  Price                     977 non-null    float64\n",
            "dtypes: float64(1), object(12)\n",
            "memory usage: 99.4+ KB\n"
          ]
        }
      ]
    },
    {
      "cell_type": "code",
      "source": [
        "df.isna().sum()"
      ],
      "metadata": {
        "colab": {
          "base_uri": "https://localhost:8080/"
        },
        "id": "2UcTmKGEBaEt",
        "outputId": "6329772b-573a-43cc-e778-28d53d4a7d2c"
      },
      "execution_count": 5,
      "outputs": [
        {
          "output_type": "execute_result",
          "data": {
            "text/plain": [
              "Manufacturer                  0\n",
              "Model Name                    0\n",
              "Category                      0\n",
              "Screen Size                   0\n",
              "Screen                        0\n",
              "CPU                           0\n",
              "RAM                           0\n",
              "Storage                       0\n",
              "GPU                           0\n",
              "Operating System              0\n",
              "Operating System Version    136\n",
              "Weight                        0\n",
              "Price                         0\n",
              "dtype: int64"
            ]
          },
          "metadata": {},
          "execution_count": 5
        }
      ]
    },
    {
      "cell_type": "code",
      "source": [
        "mode_value=df['Operating System Version'].mode()[0]"
      ],
      "metadata": {
        "id": "CE5bKM-MBja9"
      },
      "execution_count": 6,
      "outputs": []
    },
    {
      "cell_type": "code",
      "source": [
        "df['Operating System Version'].fillna(mode_value, inplace=True)"
      ],
      "metadata": {
        "id": "F2NFY2w0Bs4S"
      },
      "execution_count": 7,
      "outputs": []
    },
    {
      "cell_type": "code",
      "source": [
        "df.isnull().sum()"
      ],
      "metadata": {
        "colab": {
          "base_uri": "https://localhost:8080/"
        },
        "id": "1dYlJDSLBu0K",
        "outputId": "fb290f9b-582a-47e0-9f1e-a0457f2b8095"
      },
      "execution_count": 8,
      "outputs": [
        {
          "output_type": "execute_result",
          "data": {
            "text/plain": [
              "Manufacturer                0\n",
              "Model Name                  0\n",
              "Category                    0\n",
              "Screen Size                 0\n",
              "Screen                      0\n",
              "CPU                         0\n",
              "RAM                         0\n",
              "Storage                     0\n",
              "GPU                         0\n",
              "Operating System            0\n",
              "Operating System Version    0\n",
              "Weight                      0\n",
              "Price                       0\n",
              "dtype: int64"
            ]
          },
          "metadata": {},
          "execution_count": 8
        }
      ]
    },
    {
      "cell_type": "code",
      "source": [
        "X=df.drop(\"Price\",axis=1)"
      ],
      "metadata": {
        "id": "dx6vgrYUBx0L"
      },
      "execution_count": 9,
      "outputs": []
    },
    {
      "cell_type": "code",
      "source": [
        "y=df[\"Price\"]"
      ],
      "metadata": {
        "id": "9V0KlhcAB1nE"
      },
      "execution_count": 10,
      "outputs": []
    },
    {
      "cell_type": "code",
      "source": [
        "# Convert categorical variables to numerical using Label Encoding\n",
        "from sklearn.preprocessing import LabelEncoder\n",
        "label_encoder = LabelEncoder()\n",
        "X_categorical = X.select_dtypes(include=['object']).apply(label_encoder.fit_transform)\n",
        "X = pd.concat([X.drop(X_categorical.columns, axis=1), X_categorical], axis=1)"
      ],
      "metadata": {
        "id": "MV8WrMWdB7dw"
      },
      "execution_count": 11,
      "outputs": []
    },
    {
      "cell_type": "code",
      "source": [
        "from sklearn.model_selection import train_test_split"
      ],
      "metadata": {
        "id": "fSl2bwHRB9S6"
      },
      "execution_count": 12,
      "outputs": []
    },
    {
      "cell_type": "code",
      "source": [
        "X_train, X_test, y_train, y_test = train_test_split(X, y, test_size=0.2, random_state=42)"
      ],
      "metadata": {
        "id": "DAarfE3YCSDr"
      },
      "execution_count": 13,
      "outputs": []
    },
    {
      "cell_type": "code",
      "source": [
        "from sklearn.preprocessing import StandardScaler\n",
        "scaler = StandardScaler()\n",
        "X_train_scaled = scaler.fit_transform(X_train)\n",
        "X_test_scaled = scaler.transform(X_test)\n"
      ],
      "metadata": {
        "id": "3YZtYE6mEY0q"
      },
      "execution_count": 19,
      "outputs": []
    },
    {
      "cell_type": "code",
      "source": [],
      "metadata": {
        "id": "ijM9qlS2EhKX"
      },
      "execution_count": null,
      "outputs": []
    },
    {
      "cell_type": "code",
      "source": [
        "import tensorflow\n",
        "from tensorflow.keras.models import Sequential\n",
        "from tensorflow.keras.layers import Dense\n",
        "from tensorflow.keras.layers import Dropout\n",
        "from tensorflow.keras.optimizers import Adam"
      ],
      "metadata": {
        "id": "FGrRIDkFCWNL"
      },
      "execution_count": 14,
      "outputs": []
    },
    {
      "cell_type": "code",
      "source": [],
      "metadata": {
        "id": "qU4eE55FEmI7"
      },
      "execution_count": null,
      "outputs": []
    },
    {
      "cell_type": "code",
      "source": [
        "model = Sequential([\n",
        "    Dense(64, activation='relu', input_shape=(X_train.shape[1],)),\n",
        "    Dense(32, activation='relu'),\n",
        "    Dense(1)  # No activation function for the output layer (linear activation for regression)\n",
        "])\n"
      ],
      "metadata": {
        "id": "M9vS0rTIC1t5"
      },
      "execution_count": 23,
      "outputs": []
    },
    {
      "cell_type": "code",
      "source": [
        "model.compile(optimizer='adam', loss='mean_squared_error')\n",
        "\n",
        "\n",
        "model.fit(X_train_scaled, y_train, epochs=100, batch_size=32, verbose=1)\n",
        "\n",
        "\n",
        "loss = model.evaluate(X_test_scaled, y_test, verbose=0)\n",
        "print(\"Test Loss:\", loss)"
      ],
      "metadata": {
        "colab": {
          "base_uri": "https://localhost:8080/"
        },
        "id": "2j-Lu3DoDHpv",
        "outputId": "82760ace-e700-4deb-fdc7-dbc24904bdd6"
      },
      "execution_count": 24,
      "outputs": [
        {
          "output_type": "stream",
          "name": "stdout",
          "text": [
            "Epoch 1/100\n",
            "25/25 [==============================] - 3s 4ms/step - loss: 142744177606656.0000\n",
            "Epoch 2/100\n",
            "25/25 [==============================] - 0s 3ms/step - loss: 142744144052224.0000\n",
            "Epoch 3/100\n",
            "25/25 [==============================] - 0s 3ms/step - loss: 142744076943360.0000\n",
            "Epoch 4/100\n",
            "25/25 [==============================] - 0s 3ms/step - loss: 142743942725632.0000\n",
            "Epoch 5/100\n",
            "25/25 [==============================] - 0s 3ms/step - loss: 142743724621824.0000\n",
            "Epoch 6/100\n",
            "25/25 [==============================] - 0s 3ms/step - loss: 142743405854720.0000\n",
            "Epoch 7/100\n",
            "25/25 [==============================] - 0s 3ms/step - loss: 142742885761024.0000\n",
            "Epoch 8/100\n",
            "25/25 [==============================] - 0s 3ms/step - loss: 142742197895168.0000\n",
            "Epoch 9/100\n",
            "25/25 [==============================] - 0s 3ms/step - loss: 142741174484992.0000\n",
            "Epoch 10/100\n",
            "25/25 [==============================] - 0s 3ms/step - loss: 142739882639360.0000\n",
            "Epoch 11/100\n",
            "25/25 [==============================] - 0s 3ms/step - loss: 142738255249408.0000\n",
            "Epoch 12/100\n",
            "25/25 [==============================] - 0s 3ms/step - loss: 142736158097408.0000\n",
            "Epoch 13/100\n",
            "25/25 [==============================] - 0s 3ms/step - loss: 142733641515008.0000\n",
            "Epoch 14/100\n",
            "25/25 [==============================] - 0s 3ms/step - loss: 142730588061696.0000\n",
            "Epoch 15/100\n",
            "25/25 [==============================] - 0s 3ms/step - loss: 142726947405824.0000\n",
            "Epoch 16/100\n",
            "25/25 [==============================] - 0s 3ms/step - loss: 142722769879040.0000\n",
            "Epoch 17/100\n",
            "25/25 [==============================] - 0s 3ms/step - loss: 142717803823104.0000\n",
            "Epoch 18/100\n",
            "25/25 [==============================] - 0s 3ms/step - loss: 142712485445632.0000\n",
            "Epoch 19/100\n",
            "25/25 [==============================] - 0s 3ms/step - loss: 142706143657984.0000\n",
            "Epoch 20/100\n",
            "25/25 [==============================] - 0s 3ms/step - loss: 142699281776640.0000\n",
            "Epoch 21/100\n",
            "25/25 [==============================] - 0s 3ms/step - loss: 142691564257280.0000\n",
            "Epoch 22/100\n",
            "25/25 [==============================] - 0s 3ms/step - loss: 142683007877120.0000\n",
            "Epoch 23/100\n",
            "25/25 [==============================] - 0s 3ms/step - loss: 142673696522240.0000\n",
            "Epoch 24/100\n",
            "25/25 [==============================] - 0s 3ms/step - loss: 142663428866048.0000\n",
            "Epoch 25/100\n",
            "25/25 [==============================] - 0s 3ms/step - loss: 142652288794624.0000\n",
            "Epoch 26/100\n",
            "25/25 [==============================] - 0s 3ms/step - loss: 142640293085184.0000\n",
            "Epoch 27/100\n",
            "25/25 [==============================] - 0s 3ms/step - loss: 142627240411136.0000\n",
            "Epoch 28/100\n",
            "25/25 [==============================] - 0s 3ms/step - loss: 142613348876288.0000\n",
            "Epoch 29/100\n",
            "25/25 [==============================] - 0s 3ms/step - loss: 142598232604672.0000\n",
            "Epoch 30/100\n",
            "25/25 [==============================] - 0s 3ms/step - loss: 142582092922880.0000\n",
            "Epoch 31/100\n",
            "25/25 [==============================] - 0s 5ms/step - loss: 142565080825856.0000\n",
            "Epoch 32/100\n",
            "25/25 [==============================] - 0s 4ms/step - loss: 142546793660416.0000\n",
            "Epoch 33/100\n",
            "25/25 [==============================] - 0s 4ms/step - loss: 142527600525312.0000\n",
            "Epoch 34/100\n",
            "25/25 [==============================] - 0s 4ms/step - loss: 142507165876224.0000\n",
            "Epoch 35/100\n",
            "25/25 [==============================] - 0s 4ms/step - loss: 142485019951104.0000\n",
            "Epoch 36/100\n",
            "25/25 [==============================] - 0s 5ms/step - loss: 142462454595584.0000\n",
            "Epoch 37/100\n",
            "25/25 [==============================] - 0s 5ms/step - loss: 142438245072896.0000\n",
            "Epoch 38/100\n",
            "25/25 [==============================] - 0s 4ms/step - loss: 142412424937472.0000\n",
            "Epoch 39/100\n",
            "25/25 [==============================] - 0s 4ms/step - loss: 142385715609600.0000\n",
            "Epoch 40/100\n",
            "25/25 [==============================] - 0s 4ms/step - loss: 142357798322176.0000\n",
            "Epoch 41/100\n",
            "25/25 [==============================] - 0s 4ms/step - loss: 142327918100480.0000\n",
            "Epoch 42/100\n",
            "25/25 [==============================] - 0s 4ms/step - loss: 142297719111680.0000\n",
            "Epoch 43/100\n",
            "25/25 [==============================] - 0s 4ms/step - loss: 142265657851904.0000\n",
            "Epoch 44/100\n",
            "25/25 [==============================] - 0s 5ms/step - loss: 142232506073088.0000\n",
            "Epoch 45/100\n",
            "25/25 [==============================] - 0s 4ms/step - loss: 142197542354944.0000\n",
            "Epoch 46/100\n",
            "25/25 [==============================] - 0s 4ms/step - loss: 142161454563328.0000\n",
            "Epoch 47/100\n",
            "25/25 [==============================] - 0s 5ms/step - loss: 142124158812160.0000\n",
            "Epoch 48/100\n",
            "25/25 [==============================] - 0s 4ms/step - loss: 142084866572288.0000\n",
            "Epoch 49/100\n",
            "25/25 [==============================] - 0s 5ms/step - loss: 142045087793152.0000\n",
            "Epoch 50/100\n",
            "25/25 [==============================] - 0s 4ms/step - loss: 142003698401280.0000\n",
            "Epoch 51/100\n",
            "25/25 [==============================] - 0s 3ms/step - loss: 141960597733376.0000\n",
            "Epoch 52/100\n",
            "25/25 [==============================] - 0s 3ms/step - loss: 141916440100864.0000\n",
            "Epoch 53/100\n",
            "25/25 [==============================] - 0s 3ms/step - loss: 141871191949312.0000\n",
            "Epoch 54/100\n",
            "25/25 [==============================] - 0s 3ms/step - loss: 141823729205248.0000\n",
            "Epoch 55/100\n",
            "25/25 [==============================] - 0s 3ms/step - loss: 141775679258624.0000\n",
            "Epoch 56/100\n",
            "25/25 [==============================] - 0s 3ms/step - loss: 141725565714432.0000\n",
            "Epoch 57/100\n",
            "25/25 [==============================] - 0s 3ms/step - loss: 141673589899264.0000\n",
            "Epoch 58/100\n",
            "25/25 [==============================] - 0s 3ms/step - loss: 141620406124544.0000\n",
            "Epoch 59/100\n",
            "25/25 [==============================] - 0s 3ms/step - loss: 141564907094016.0000\n",
            "Epoch 60/100\n",
            "25/25 [==============================] - 0s 3ms/step - loss: 141508401430528.0000\n",
            "Epoch 61/100\n",
            "25/25 [==============================] - 0s 3ms/step - loss: 141450788470784.0000\n",
            "Epoch 62/100\n",
            "25/25 [==============================] - 0s 3ms/step - loss: 141391430680576.0000\n",
            "Epoch 63/100\n",
            "25/25 [==============================] - 0s 3ms/step - loss: 141330613272576.0000\n",
            "Epoch 64/100\n",
            "25/25 [==============================] - 0s 3ms/step - loss: 141268185251840.0000\n",
            "Epoch 65/100\n",
            "25/25 [==============================] - 0s 3ms/step - loss: 141204767375360.0000\n",
            "Epoch 66/100\n",
            "25/25 [==============================] - 0s 3ms/step - loss: 141137591402496.0000\n",
            "Epoch 67/100\n",
            "25/25 [==============================] - 0s 3ms/step - loss: 141071338176512.0000\n",
            "Epoch 68/100\n",
            "25/25 [==============================] - 0s 3ms/step - loss: 141002568368128.0000\n",
            "Epoch 69/100\n",
            "25/25 [==============================] - 0s 3ms/step - loss: 140932909367296.0000\n",
            "Epoch 70/100\n",
            "25/25 [==============================] - 0s 3ms/step - loss: 140860314353664.0000\n",
            "Epoch 71/100\n",
            "25/25 [==============================] - 0s 3ms/step - loss: 140787165691904.0000\n",
            "Epoch 72/100\n",
            "25/25 [==============================] - 0s 3ms/step - loss: 140710418317312.0000\n",
            "Epoch 73/100\n",
            "25/25 [==============================] - 0s 3ms/step - loss: 140634912456704.0000\n",
            "Epoch 74/100\n",
            "25/25 [==============================] - 0s 3ms/step - loss: 140555052908544.0000\n",
            "Epoch 75/100\n",
            "25/25 [==============================] - 0s 3ms/step - loss: 140476585869312.0000\n",
            "Epoch 76/100\n",
            "25/25 [==============================] - 0s 3ms/step - loss: 140393194717184.0000\n",
            "Epoch 77/100\n",
            "25/25 [==============================] - 0s 3ms/step - loss: 140309518352384.0000\n",
            "Epoch 78/100\n",
            "25/25 [==============================] - 0s 3ms/step - loss: 140224701136896.0000\n",
            "Epoch 79/100\n",
            "25/25 [==============================] - 0s 3ms/step - loss: 140138139090944.0000\n",
            "Epoch 80/100\n",
            "25/25 [==============================] - 0s 3ms/step - loss: 140050209701888.0000\n",
            "Epoch 81/100\n",
            "25/25 [==============================] - 0s 3ms/step - loss: 139957364588544.0000\n",
            "Epoch 82/100\n",
            "25/25 [==============================] - 0s 3ms/step - loss: 139864276205568.0000\n",
            "Epoch 83/100\n",
            "25/25 [==============================] - 0s 3ms/step - loss: 139768922898432.0000\n",
            "Epoch 84/100\n",
            "25/25 [==============================] - 0s 3ms/step - loss: 139674660110336.0000\n",
            "Epoch 85/100\n",
            "25/25 [==============================] - 0s 3ms/step - loss: 139576077189120.0000\n",
            "Epoch 86/100\n",
            "25/25 [==============================] - 0s 3ms/step - loss: 139475992707072.0000\n",
            "Epoch 87/100\n",
            "25/25 [==============================] - 0s 3ms/step - loss: 139377099407360.0000\n",
            "Epoch 88/100\n",
            "25/25 [==============================] - 0s 3ms/step - loss: 139272787066880.0000\n",
            "Epoch 89/100\n",
            "25/25 [==============================] - 0s 3ms/step - loss: 139167568756736.0000\n",
            "Epoch 90/100\n",
            "25/25 [==============================] - 0s 3ms/step - loss: 139059733200896.0000\n",
            "Epoch 91/100\n",
            "25/25 [==============================] - 0s 3ms/step - loss: 138952266743808.0000\n",
            "Epoch 92/100\n",
            "25/25 [==============================] - 0s 3ms/step - loss: 138840975081472.0000\n",
            "Epoch 93/100\n",
            "25/25 [==============================] - 0s 3ms/step - loss: 138730094460928.0000\n",
            "Epoch 94/100\n",
            "25/25 [==============================] - 0s 3ms/step - loss: 138613836742656.0000\n",
            "Epoch 95/100\n",
            "25/25 [==============================] - 0s 3ms/step - loss: 138496152961024.0000\n",
            "Epoch 96/100\n",
            "25/25 [==============================] - 0s 3ms/step - loss: 138379224154112.0000\n",
            "Epoch 97/100\n",
            "25/25 [==============================] - 0s 3ms/step - loss: 138259166396416.0000\n",
            "Epoch 98/100\n",
            "25/25 [==============================] - 0s 3ms/step - loss: 138137556746240.0000\n",
            "Epoch 99/100\n",
            "25/25 [==============================] - 0s 3ms/step - loss: 138013875109888.0000\n",
            "Epoch 100/100\n",
            "25/25 [==============================] - 0s 3ms/step - loss: 137889581105152.0000\n",
            "Test Loss: 124915013386240.0\n"
          ]
        }
      ]
    },
    {
      "cell_type": "code",
      "source": [
        "predictions = model.predict(X_test_scaled)\n"
      ],
      "metadata": {
        "colab": {
          "base_uri": "https://localhost:8080/"
        },
        "id": "5r66K9qdF25t",
        "outputId": "c8353498-26ca-4db9-bcfb-e3ec3da5accf"
      },
      "execution_count": 25,
      "outputs": [
        {
          "output_type": "stream",
          "name": "stdout",
          "text": [
            "7/7 [==============================] - 0s 2ms/step\n"
          ]
        }
      ]
    },
    {
      "cell_type": "code",
      "source": [
        "import matplotlib.pyplot as plt\n",
        "\n",
        "plt.scatter(y_test, predictions)\n",
        "plt.xlabel('Actual')\n",
        "plt.ylabel('Predicted')\n",
        "plt.title('Actual vs. Predicted Values')\n",
        "plt.show()"
      ],
      "metadata": {
        "colab": {
          "base_uri": "https://localhost:8080/",
          "height": 472
        },
        "id": "qZT3yJpDF85x",
        "outputId": "79b3419c-ab1c-4adb-f89a-668f0337351f"
      },
      "execution_count": 26,
      "outputs": [
        {
          "output_type": "display_data",
          "data": {
            "text/plain": [
              "<Figure size 640x480 with 1 Axes>"
            ],
            "image/png": "[encoded data removed]"
          },
          "metadata": {}
        }
      ]
    }
  ]
}